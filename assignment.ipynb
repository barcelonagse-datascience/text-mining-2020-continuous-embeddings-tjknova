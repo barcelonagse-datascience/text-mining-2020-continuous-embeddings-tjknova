{
 "cells": [
  {
   "cell_type": "markdown",
   "metadata": {},
   "source": [
    "# Assignment 3: Word2Vec\n",
    "\n",
    "In this assignment, we will see how we can use Word2Vec (or any similar word embedding) to use information from unlabelled data to help us classify better!\n",
    "\n",
    "You will be using the sentiment data from last week, either the yelps or movies, whichever you wish. \n",
    "\n",
    "Your goal will be to simulate the following situation: you have a **small** set of labelled data and a large set of unlabelled data. Show how the two follow 2 techniques compare as the amount of labelled data increases. You should train them on the small labelled subset and test their performance on the rest of the data. \n",
    "\n",
    "In other words, train on 1k, test on 99k. Then train on 2k, test on 98k. Then train on 4k, test on 96k. Etc.\n",
    "\n",
    "1. Logistic regression trained on labelled data, documents represented as term-frequency matrix of your choice. You can learn the vocabulary from the entire dataset or only the labelled data.\n",
    "\n",
    "2. Logistic regression trained on the labelled data, documents represented as word2vec vectors where you train word2vec using the entire dataset. Play around with different settings of word2vec (training window size, K-negative, skip-gram vs BOW, training windows, etc.). Note: we didn't go over the options in detail in class, so you will need to read about them a bit!\n",
    "\n",
    "You can read about the gensime word2vec implementation [here](https://radimrehurek.com/gensim/models/word2vec.html)."
   ]
  },
  {
   "cell_type": "code",
   "execution_count": 13,
   "metadata": {},
   "outputs": [],
   "source": [
    "import numpy as np\n",
    "import pandas as pd\n",
    "from sklearn.feature_extraction.text import TfidfVectorizer\n",
    "from sklearn.linear_model import LogisticRegression\n",
    "from sklearn.metrics import accuracy_score\n",
    "import re\n",
    "import time\n",
    "regex = re.compile(r\"[^\\w\\d\\s]\")\n",
    "from nltk.stem.snowball import SnowballStemmer\n",
    "stemmer = SnowballStemmer(\"english\")"
   ]
  },
  {
   "cell_type": "code",
   "execution_count": 2,
   "metadata": {},
   "outputs": [
    {
     "name": "stdout",
     "output_type": "stream",
     "text": [
      "<class 'pandas.core.frame.DataFrame'>\n",
      "Int64Index: 100000 entries, 0 to 100002\n",
      "Data columns (total 2 columns):\n",
      " #   Column    Non-Null Count   Dtype \n",
      "---  ------    --------------   ----- \n",
      " 0   positive  100000 non-null  bool  \n",
      " 1   text      100000 non-null  object\n",
      "dtypes: bool(1), object(1)\n",
      "memory usage: 1.6+ MB\n"
     ]
    }
   ],
   "source": [
    "#load data\n",
    "df_yelp = pd.read_csv('/Users/thomaskelly/Documents/GitHub/text-mining-2020-classifying-text-tjknova/sentiment/yelps.csv')\n",
    "df_yelp = df_yelp[['positive', 'text']]\n",
    "df_yelp = df_yelp[df_yelp.positive.isin(['True', 'False'])]\n",
    "df_yelp['positive'] = df_yelp['positive'].map({\"True\": True, \"False\": False}) #originally loaded as string\n",
    "df_yelp.info()\n"
   ]
  },
  {
   "cell_type": "code",
   "execution_count": 55,
   "metadata": {},
   "outputs": [],
   "source": [
    "# trained on the entire dataset\n",
    "\n",
    "tfidf = TfidfVectorizer(stop_words='english', min_df = 0.05, max_df=0.9)\n",
    "X_yelp = tfidf.fit_transform(df_yelp['text'])\n",
    "y_yelp = df_yelp['positive'] \n"
   ]
  },
  {
   "cell_type": "code",
   "execution_count": 4,
   "metadata": {},
   "outputs": [
    {
     "name": "stdout",
     "output_type": "stream",
     "text": [
      "    test size  tfidf accuracy\n",
      "0        0.99        0.858737\n",
      "1        0.98        0.864296\n",
      "2        0.96        0.868010\n",
      "3        0.90        0.873211\n",
      "4        0.80        0.874925\n",
      "5        0.70        0.874786\n",
      "6        0.60        0.875667\n",
      "7        0.50        0.875700\n",
      "8        0.40        0.876800\n",
      "9        0.30        0.877200\n",
      "10       0.20        0.875650\n"
     ]
    }
   ],
   "source": [
    "from sklearn.model_selection import train_test_split\n",
    "\n",
    "testsize = [.99, 0.98, 0.96, 0.9, 0.8, 0.7, 0.6, 0.5, 0.4, 0.3, 0.2]\n",
    "logreg = LogisticRegression()\n",
    "results_tfidf= []\n",
    "\n",
    "for size in testsize:\n",
    "    X_train, X_test, y_train, y_test = train_test_split(X_yelp, y_yelp, test_size=size, random_state=5)\n",
    "    logreg.fit(X_train, y_train)\n",
    "    logreg_pred = logreg.predict(X_test)\n",
    "    logreg_insample = logreg.score(X_train, y_train)\n",
    "    logreg_outofsample = accuracy_score(logreg_pred, y_test)\n",
    "    results_tfidf.append([size, logreg_outofsample])\n",
    "    \n",
    "df_tfidf = pd.DataFrame(results_tfidf, columns= ['test size', 'tfidf accuracy'])\n",
    "print(df_tfidf)"
   ]
  },
  {
   "cell_type": "code",
   "execution_count": 5,
   "metadata": {},
   "outputs": [
    {
     "data": {
      "image/png": "[encoded data removed]",
      "text/plain": [
       "<Figure size 360x360 with 1 Axes>"
      ]
     },
     "metadata": {
      "needs_background": "light"
     },
     "output_type": "display_data"
    }
   ],
   "source": [
    "#graph accuracy\n",
    "\n",
    "import seaborn as sns\n",
    "import matplotlib.pyplot as plt\n",
    "\n",
    "sns.relplot('test size', 'tfidf accuracy', data=df_tfidf, kind='line')\n",
    "plt.show()"
   ]
  },
  {
   "cell_type": "code",
   "execution_count": 6,
   "metadata": {},
   "outputs": [],
   "source": [
    "def process(doc):\n",
    "    doc = re.sub(regex, '', doc)\n",
    "    words = [stemmer.stem(word) for word in doc.split()]\n",
    "    return ' '.join(words).lower()\n",
    "\n",
    "sent = [process(doc) for doc in df_yelp['text']]\n",
    "tokens = [word.split() for word in sent]"
   ]
  },
  {
   "cell_type": "code",
   "execution_count": 35,
   "metadata": {},
   "outputs": [],
   "source": [
    "from gensim.models import Word2Vec\n",
    "test =tokens[0:10000]"
   ]
  },
  {
   "cell_type": "code",
   "execution_count": 8,
   "metadata": {},
   "outputs": [
    {
     "name": "stdout",
     "output_type": "stream",
     "text": [
      "4\n"
     ]
    }
   ],
   "source": [
    "import multiprocessing\n",
    "cores = multiprocessing.cpu_count()\n",
    "print(cores)"
   ]
  },
  {
   "cell_type": "code",
   "execution_count": 37,
   "metadata": {},
   "outputs": [],
   "source": [
    "#instantiate the model\n",
    "w2v_model2 = Word2Vec(size=100, window=2, workers = cores-1, min_count=5)"
   ]
  },
  {
   "cell_type": "code",
   "execution_count": 38,
   "metadata": {},
   "outputs": [],
   "source": [
    "# build the vocab\n",
    "\n",
    "w2v_model2.build_vocab(tokens, progress_per=10000)\n"
   ]
  },
  {
   "cell_type": "code",
   "execution_count": 39,
   "metadata": {},
   "outputs": [
    {
     "data": {
      "text/plain": [
       "(8574346, 11661210)"
      ]
     },
     "execution_count": 39,
     "metadata": {},
     "output_type": "execute_result"
    }
   ],
   "source": [
    "w2v_model2.train(test, total_examples=w2v_model2.corpus_count, epochs=10)"
   ]
  },
  {
   "cell_type": "code",
   "execution_count": 77,
   "metadata": {},
   "outputs": [],
   "source": [
    "def embed_word2vec(doc,model):\n",
    "    result = np.zeros(100)\n",
    "    \n",
    "    for wrd in doc:\n",
    "        try:\n",
    "            wrd_emb = model.wv[wrd]\n",
    "        except KeyError:\n",
    "            wrd_emb = np.zeros(100)\n",
    "    \n",
    "        result += wrd_emb\n",
    "    return result"
   ]
  },
  {
   "cell_type": "code",
   "execution_count": 78,
   "metadata": {},
   "outputs": [
    {
     "name": "stdout",
     "output_type": "stream",
     "text": [
      "[-46.11836225  53.94695863 -46.72452487  27.15620043  44.94150508\n",
      " -68.768521    37.75898979   1.10352654 -16.98325172 -28.89881819\n",
      " -55.02354023  24.54488001 -60.29768557  -5.11362562 107.20497822\n",
      " -26.12961907  69.80093796  16.58655146 -27.81459333  48.27891504\n",
      "   5.78921037   4.24761663  69.60859062  56.64904806  31.93491045\n",
      "  17.74410339 -83.43911524  59.88570632   0.36416223 -40.74620924\n",
      "   5.51147718  12.17084749  -9.58504656  72.79660879 -69.12055922\n",
      "  19.2269065  -34.95950111  45.95212927 -12.2237101    9.29906718\n",
      "  48.59241501 -44.29660375  32.58447268 101.12898683  38.29992261\n",
      "  65.83509296   2.91768527 -19.53367606  30.21198783  41.13714385\n",
      "  57.6391373  -29.31057893  73.14018838  17.02770031  14.41617234\n",
      "  26.00347669  49.04046106 -13.63601403 -58.39134309  -4.59189305\n",
      "  15.61542226  19.92564559 -52.17160721 -35.05113769 -78.04730809\n",
      " -66.8487003  -24.08399383  -6.42236793   0.14636276  15.29161119\n",
      "  -5.26819525  40.2333908   10.5860124  -32.56665446  44.56501274\n",
      "  44.93618712  -9.04196251  28.45476862  29.01704545 -97.25781307\n",
      "  45.76185774 -71.614189    74.37668775 -13.31336032  53.66296529\n",
      "  -3.97735336  94.01355141 -32.1669268   12.91066132 -28.13323711\n",
      "   1.35315795  46.01343163  27.62725045  42.09564521   0.11282181\n",
      "  48.18548668 -20.93620001 -62.36503747 -61.34247322  -4.73889157]\n"
     ]
    }
   ],
   "source": [
    "W_yelp = np.array([x.split(' ') for x in df_yelp['text']])\n",
    "x = embed_word2vec(W_yelp[0], w2v_model2)\n",
    "print(x)"
   ]
  },
  {
   "cell_type": "code",
   "execution_count": 79,
   "metadata": {},
   "outputs": [],
   "source": [
    "W_yelp_emb = np.array([embed_word2vec(doc,w2v_model2) for doc in W_yelp])\n"
   ]
  },
  {
   "cell_type": "code",
   "execution_count": 82,
   "metadata": {},
   "outputs": [
    {
     "name": "stderr",
     "output_type": "stream",
     "text": [
      "/Users/thomaskelly/anaconda3/lib/python3.7/site-packages/sklearn/linear_model/_logistic.py:940: ConvergenceWarning: lbfgs failed to converge (status=1):\n",
      "STOP: TOTAL NO. of ITERATIONS REACHED LIMIT.\n",
      "\n",
      "Increase the number of iterations (max_iter) or scale the data as shown in:\n",
      "    https://scikit-learn.org/stable/modules/preprocessing.html\n",
      "Please also refer to the documentation for alternative solver options:\n",
      "    https://scikit-learn.org/stable/modules/linear_model.html#logistic-regression\n",
      "  extra_warning_msg=_LOGISTIC_SOLVER_CONVERGENCE_MSG)\n",
      "/Users/thomaskelly/anaconda3/lib/python3.7/site-packages/sklearn/linear_model/_logistic.py:940: ConvergenceWarning: lbfgs failed to converge (status=1):\n",
      "STOP: TOTAL NO. of ITERATIONS REACHED LIMIT.\n",
      "\n",
      "Increase the number of iterations (max_iter) or scale the data as shown in:\n",
      "    https://scikit-learn.org/stable/modules/preprocessing.html\n",
      "Please also refer to the documentation for alternative solver options:\n",
      "    https://scikit-learn.org/stable/modules/linear_model.html#logistic-regression\n",
      "  extra_warning_msg=_LOGISTIC_SOLVER_CONVERGENCE_MSG)\n",
      "/Users/thomaskelly/anaconda3/lib/python3.7/site-packages/sklearn/linear_model/_logistic.py:940: ConvergenceWarning: lbfgs failed to converge (status=1):\n",
      "STOP: TOTAL NO. of ITERATIONS REACHED LIMIT.\n",
      "\n",
      "Increase the number of iterations (max_iter) or scale the data as shown in:\n",
      "    https://scikit-learn.org/stable/modules/preprocessing.html\n",
      "Please also refer to the documentation for alternative solver options:\n",
      "    https://scikit-learn.org/stable/modules/linear_model.html#logistic-regression\n",
      "  extra_warning_msg=_LOGISTIC_SOLVER_CONVERGENCE_MSG)\n",
      "/Users/thomaskelly/anaconda3/lib/python3.7/site-packages/sklearn/linear_model/_logistic.py:940: ConvergenceWarning: lbfgs failed to converge (status=1):\n",
      "STOP: TOTAL NO. of ITERATIONS REACHED LIMIT.\n",
      "\n",
      "Increase the number of iterations (max_iter) or scale the data as shown in:\n",
      "    https://scikit-learn.org/stable/modules/preprocessing.html\n",
      "Please also refer to the documentation for alternative solver options:\n",
      "    https://scikit-learn.org/stable/modules/linear_model.html#logistic-regression\n",
      "  extra_warning_msg=_LOGISTIC_SOLVER_CONVERGENCE_MSG)\n",
      "/Users/thomaskelly/anaconda3/lib/python3.7/site-packages/sklearn/linear_model/_logistic.py:940: ConvergenceWarning: lbfgs failed to converge (status=1):\n",
      "STOP: TOTAL NO. of ITERATIONS REACHED LIMIT.\n",
      "\n",
      "Increase the number of iterations (max_iter) or scale the data as shown in:\n",
      "    https://scikit-learn.org/stable/modules/preprocessing.html\n",
      "Please also refer to the documentation for alternative solver options:\n",
      "    https://scikit-learn.org/stable/modules/linear_model.html#logistic-regression\n",
      "  extra_warning_msg=_LOGISTIC_SOLVER_CONVERGENCE_MSG)\n",
      "/Users/thomaskelly/anaconda3/lib/python3.7/site-packages/sklearn/linear_model/_logistic.py:940: ConvergenceWarning: lbfgs failed to converge (status=1):\n",
      "STOP: TOTAL NO. of ITERATIONS REACHED LIMIT.\n",
      "\n",
      "Increase the number of iterations (max_iter) or scale the data as shown in:\n",
      "    https://scikit-learn.org/stable/modules/preprocessing.html\n",
      "Please also refer to the documentation for alternative solver options:\n",
      "    https://scikit-learn.org/stable/modules/linear_model.html#logistic-regression\n",
      "  extra_warning_msg=_LOGISTIC_SOLVER_CONVERGENCE_MSG)\n",
      "/Users/thomaskelly/anaconda3/lib/python3.7/site-packages/sklearn/linear_model/_logistic.py:940: ConvergenceWarning: lbfgs failed to converge (status=1):\n",
      "STOP: TOTAL NO. of ITERATIONS REACHED LIMIT.\n",
      "\n",
      "Increase the number of iterations (max_iter) or scale the data as shown in:\n",
      "    https://scikit-learn.org/stable/modules/preprocessing.html\n",
      "Please also refer to the documentation for alternative solver options:\n",
      "    https://scikit-learn.org/stable/modules/linear_model.html#logistic-regression\n",
      "  extra_warning_msg=_LOGISTIC_SOLVER_CONVERGENCE_MSG)\n",
      "/Users/thomaskelly/anaconda3/lib/python3.7/site-packages/sklearn/linear_model/_logistic.py:940: ConvergenceWarning: lbfgs failed to converge (status=1):\n",
      "STOP: TOTAL NO. of ITERATIONS REACHED LIMIT.\n",
      "\n",
      "Increase the number of iterations (max_iter) or scale the data as shown in:\n",
      "    https://scikit-learn.org/stable/modules/preprocessing.html\n",
      "Please also refer to the documentation for alternative solver options:\n",
      "    https://scikit-learn.org/stable/modules/linear_model.html#logistic-regression\n",
      "  extra_warning_msg=_LOGISTIC_SOLVER_CONVERGENCE_MSG)\n",
      "/Users/thomaskelly/anaconda3/lib/python3.7/site-packages/sklearn/linear_model/_logistic.py:940: ConvergenceWarning: lbfgs failed to converge (status=1):\n",
      "STOP: TOTAL NO. of ITERATIONS REACHED LIMIT.\n",
      "\n",
      "Increase the number of iterations (max_iter) or scale the data as shown in:\n",
      "    https://scikit-learn.org/stable/modules/preprocessing.html\n",
      "Please also refer to the documentation for alternative solver options:\n",
      "    https://scikit-learn.org/stable/modules/linear_model.html#logistic-regression\n",
      "  extra_warning_msg=_LOGISTIC_SOLVER_CONVERGENCE_MSG)\n",
      "/Users/thomaskelly/anaconda3/lib/python3.7/site-packages/sklearn/linear_model/_logistic.py:940: ConvergenceWarning: lbfgs failed to converge (status=1):\n",
      "STOP: TOTAL NO. of ITERATIONS REACHED LIMIT.\n",
      "\n",
      "Increase the number of iterations (max_iter) or scale the data as shown in:\n",
      "    https://scikit-learn.org/stable/modules/preprocessing.html\n",
      "Please also refer to the documentation for alternative solver options:\n",
      "    https://scikit-learn.org/stable/modules/linear_model.html#logistic-regression\n",
      "  extra_warning_msg=_LOGISTIC_SOLVER_CONVERGENCE_MSG)\n"
     ]
    },
    {
     "name": "stdout",
     "output_type": "stream",
     "text": [
      "    test size  model2 w2v accuracy\n",
      "0        0.99             0.818232\n",
      "1        0.98             0.827224\n",
      "2        0.96             0.837896\n",
      "3        0.90             0.842867\n",
      "4        0.80             0.845025\n",
      "5        0.70             0.845143\n",
      "6        0.60             0.844617\n",
      "7        0.50             0.844840\n",
      "8        0.40             0.843175\n",
      "9        0.30             0.845033\n",
      "10       0.20             0.847850\n"
     ]
    },
    {
     "name": "stderr",
     "output_type": "stream",
     "text": [
      "/Users/thomaskelly/anaconda3/lib/python3.7/site-packages/sklearn/linear_model/_logistic.py:940: ConvergenceWarning: lbfgs failed to converge (status=1):\n",
      "STOP: TOTAL NO. of ITERATIONS REACHED LIMIT.\n",
      "\n",
      "Increase the number of iterations (max_iter) or scale the data as shown in:\n",
      "    https://scikit-learn.org/stable/modules/preprocessing.html\n",
      "Please also refer to the documentation for alternative solver options:\n",
      "    https://scikit-learn.org/stable/modules/linear_model.html#logistic-regression\n",
      "  extra_warning_msg=_LOGISTIC_SOLVER_CONVERGENCE_MSG)\n"
     ]
    }
   ],
   "source": [
    "testsize = [.99, 0.98, 0.96, 0.9, 0.8, 0.7, 0.6, 0.5, 0.4, 0.3, 0.2]\n",
    "logreg2 = LogisticRegression()\n",
    "results_w2v= []\n",
    "\n",
    "for size in testsize:\n",
    "    X_train, X_test, y_train, y_test = train_test_split(W_yelp_emb, y_yelp, test_size=size, random_state=5)\n",
    "    logreg2.fit(X_train, y_train)\n",
    "    logreg2_pred = logreg2.predict(X_test)\n",
    "    logreg2_outofsample = accuracy_score(logreg2_pred, y_test)\n",
    "    results_w2v.append([size, logreg2_outofsample])\n",
    "    \n",
    "df_w2v = pd.DataFrame(results_w2v, columns= ['test size', 'model2 w2v accuracy'])\n",
    "print(df_w2v)"
   ]
  },
  {
   "cell_type": "code",
   "execution_count": 83,
   "metadata": {},
   "outputs": [
    {
     "name": "stdout",
     "output_type": "stream",
     "text": [
      "    test size  tfidf accuracy  model2 w2v accuracy\n",
      "0        0.99        0.858737             0.818232\n",
      "1        0.98        0.864296             0.827224\n",
      "2        0.96        0.868010             0.837896\n",
      "3        0.90        0.873211             0.842867\n",
      "4        0.80        0.874925             0.845025\n",
      "5        0.70        0.874786             0.845143\n",
      "6        0.60        0.875667             0.844617\n",
      "7        0.50        0.875700             0.844840\n",
      "8        0.40        0.876800             0.843175\n",
      "9        0.30        0.877200             0.845033\n",
      "10       0.20        0.875650             0.847850\n"
     ]
    }
   ],
   "source": [
    "df = pd.merge(df_tfidf, df_w2v, how='outer', on='test size')\n",
    "print(df)"
   ]
  },
  {
   "cell_type": "code",
   "execution_count": 84,
   "metadata": {},
   "outputs": [
    {
     "data": {
      "image/png": "[encoded data removed]",
      "text/plain": [
       "<Figure size 720x576 with 1 Axes>"
      ]
     },
     "metadata": {
      "needs_background": "light"
     },
     "output_type": "display_data"
    }
   ],
   "source": [
    "fig, ax = plt.subplots()\n",
    "ax.plot(df['test size'], df['tfidf accuracy'], color='blue', label='tfidf accuracy')\n",
    "ax.plot(df['test size'], df['model2 w2v accuracy'], color='red', label='model2 w2v')\n",
    "fig.set_size_inches([10,8])\n",
    "plt.legend()\n",
    "plt.show()"
   ]
  }
 ],
 "metadata": {
  "kernelspec": {
   "display_name": "Python 3",
   "language": "python",
   "name": "python3"
  },
  "language_info": {
   "codemirror_mode": {
    "name": "ipython",
    "version": 3
   },
   "file_extension": ".py",
   "mimetype": "text/x-python",
   "name": "python",
   "nbconvert_exporter": "python",
   "pygments_lexer": "ipython3",
   "version": "3.7.7"
  },
  "name": "assignment.ipynb"
 },
 "nbformat": 4,
 "nbformat_minor": 2
}
